{
 "cells": [
  {
   "cell_type": "code",
   "execution_count": 1,
   "metadata": {
    "collapsed": true
   },
   "outputs": [],
   "source": [
    "import numpy as np\n",
    "import pandas as pd\n",
    "import matplotlib.pyplot as plt\n",
    "%matplotlib inline"
   ]
  },
  {
   "cell_type": "code",
   "execution_count": 2,
   "metadata": {
    "collapsed": true
   },
   "outputs": [],
   "source": [
    "datafile = \"LoanGrantingCleanedDatasetV6cleaned.csv\"\n",
    "raw_data = pd.read_csv(datafile, header=0)"
   ]
  },
  {
   "cell_type": "code",
   "execution_count": 3,
   "metadata": {
    "collapsed": false
   },
   "outputs": [
    {
     "data": {
      "text/html": [
       "<div>\n",
       "<table border=\"1\" class=\"dataframe\">\n",
       "  <thead>\n",
       "    <tr style=\"text-align: right;\">\n",
       "      <th></th>\n",
       "      <th>Loan Status</th>\n",
       "      <th>Current Loan Amount</th>\n",
       "      <th>Term</th>\n",
       "      <th>Credit Score</th>\n",
       "      <th>Years in current job</th>\n",
       "      <th>Home Ownership</th>\n",
       "      <th>Annual Income</th>\n",
       "      <th>Purpose</th>\n",
       "      <th>Monthly Debt</th>\n",
       "      <th>Years of Credit History</th>\n",
       "      <th>Months since last delinquent</th>\n",
       "      <th>Number of Open Accounts</th>\n",
       "      <th>Number of Credit Problems</th>\n",
       "      <th>Current Credit Balance</th>\n",
       "      <th>Maximum Open Credit</th>\n",
       "      <th>Bankruptcies</th>\n",
       "      <th>Tax Liens</th>\n",
       "    </tr>\n",
       "  </thead>\n",
       "  <tbody>\n",
       "    <tr>\n",
       "      <th>count</th>\n",
       "      <td>45671.000000</td>\n",
       "      <td>45671.000000</td>\n",
       "      <td>45671.000000</td>\n",
       "      <td>45671.000000</td>\n",
       "      <td>45671.000000</td>\n",
       "      <td>45671.000000</td>\n",
       "      <td>45671.000000</td>\n",
       "      <td>45671.000000</td>\n",
       "      <td>45671.000000</td>\n",
       "      <td>45671.000000</td>\n",
       "      <td>45671.000000</td>\n",
       "      <td>45671.000000</td>\n",
       "      <td>45671.000000</td>\n",
       "      <td>45671.000000</td>\n",
       "      <td>4.567100e+04</td>\n",
       "      <td>45671.000000</td>\n",
       "      <td>45671.000000</td>\n",
       "    </tr>\n",
       "    <tr>\n",
       "      <th>mean</th>\n",
       "      <td>0.634385</td>\n",
       "      <td>12667.183486</td>\n",
       "      <td>0.247772</td>\n",
       "      <td>720.464562</td>\n",
       "      <td>5.511988</td>\n",
       "      <td>0.640647</td>\n",
       "      <td>57047.915351</td>\n",
       "      <td>0.981936</td>\n",
       "      <td>835.399308</td>\n",
       "      <td>17.788369</td>\n",
       "      <td>15.898842</td>\n",
       "      <td>10.826367</td>\n",
       "      <td>0.162182</td>\n",
       "      <td>12968.232445</td>\n",
       "      <td>2.889284e+04</td>\n",
       "      <td>0.118981</td>\n",
       "      <td>0.023363</td>\n",
       "    </tr>\n",
       "    <tr>\n",
       "      <th>std</th>\n",
       "      <td>0.481607</td>\n",
       "      <td>7281.235609</td>\n",
       "      <td>0.431723</td>\n",
       "      <td>27.497862</td>\n",
       "      <td>3.754607</td>\n",
       "      <td>0.650080</td>\n",
       "      <td>20279.752469</td>\n",
       "      <td>0.133184</td>\n",
       "      <td>464.586973</td>\n",
       "      <td>6.903372</td>\n",
       "      <td>23.039119</td>\n",
       "      <td>4.837556</td>\n",
       "      <td>0.465252</td>\n",
       "      <td>11474.688289</td>\n",
       "      <td>2.292603e+05</td>\n",
       "      <td>0.351401</td>\n",
       "      <td>0.236484</td>\n",
       "    </tr>\n",
       "    <tr>\n",
       "      <th>min</th>\n",
       "      <td>0.000000</td>\n",
       "      <td>511.000000</td>\n",
       "      <td>0.000000</td>\n",
       "      <td>585.000000</td>\n",
       "      <td>0.000000</td>\n",
       "      <td>0.000000</td>\n",
       "      <td>4033.000000</td>\n",
       "      <td>0.000000</td>\n",
       "      <td>0.000000</td>\n",
       "      <td>3.900000</td>\n",
       "      <td>0.000000</td>\n",
       "      <td>1.000000</td>\n",
       "      <td>0.000000</td>\n",
       "      <td>0.000000</td>\n",
       "      <td>0.000000e+00</td>\n",
       "      <td>0.000000</td>\n",
       "      <td>0.000000</td>\n",
       "    </tr>\n",
       "    <tr>\n",
       "      <th>25%</th>\n",
       "      <td>0.000000</td>\n",
       "      <td>7109.500000</td>\n",
       "      <td>0.000000</td>\n",
       "      <td>709.000000</td>\n",
       "      <td>2.000000</td>\n",
       "      <td>0.000000</td>\n",
       "      <td>41048.000000</td>\n",
       "      <td>1.000000</td>\n",
       "      <td>493.440000</td>\n",
       "      <td>13.000000</td>\n",
       "      <td>0.000000</td>\n",
       "      <td>7.000000</td>\n",
       "      <td>0.000000</td>\n",
       "      <td>5615.000000</td>\n",
       "      <td>1.192950e+04</td>\n",
       "      <td>0.000000</td>\n",
       "      <td>0.000000</td>\n",
       "    </tr>\n",
       "    <tr>\n",
       "      <th>50%</th>\n",
       "      <td>1.000000</td>\n",
       "      <td>11213.000000</td>\n",
       "      <td>0.000000</td>\n",
       "      <td>729.000000</td>\n",
       "      <td>5.000000</td>\n",
       "      <td>1.000000</td>\n",
       "      <td>55407.000000</td>\n",
       "      <td>1.000000</td>\n",
       "      <td>774.410000</td>\n",
       "      <td>16.500000</td>\n",
       "      <td>0.000000</td>\n",
       "      <td>10.000000</td>\n",
       "      <td>0.000000</td>\n",
       "      <td>10171.000000</td>\n",
       "      <td>1.992100e+04</td>\n",
       "      <td>0.000000</td>\n",
       "      <td>0.000000</td>\n",
       "    </tr>\n",
       "    <tr>\n",
       "      <th>75%</th>\n",
       "      <td>1.000000</td>\n",
       "      <td>16923.000000</td>\n",
       "      <td>0.000000</td>\n",
       "      <td>740.000000</td>\n",
       "      <td>10.000000</td>\n",
       "      <td>1.000000</td>\n",
       "      <td>72003.500000</td>\n",
       "      <td>1.000000</td>\n",
       "      <td>1108.655000</td>\n",
       "      <td>21.100000</td>\n",
       "      <td>29.000000</td>\n",
       "      <td>13.000000</td>\n",
       "      <td>0.000000</td>\n",
       "      <td>17043.500000</td>\n",
       "      <td>3.225600e+04</td>\n",
       "      <td>0.000000</td>\n",
       "      <td>0.000000</td>\n",
       "    </tr>\n",
       "    <tr>\n",
       "      <th>max</th>\n",
       "      <td>1.000000</td>\n",
       "      <td>35872.000000</td>\n",
       "      <td>1.000000</td>\n",
       "      <td>751.000000</td>\n",
       "      <td>10.000000</td>\n",
       "      <td>2.000000</td>\n",
       "      <td>99999.000000</td>\n",
       "      <td>1.000000</td>\n",
       "      <td>3249.210000</td>\n",
       "      <td>70.500000</td>\n",
       "      <td>176.000000</td>\n",
       "      <td>76.000000</td>\n",
       "      <td>15.000000</td>\n",
       "      <td>332524.000000</td>\n",
       "      <td>3.628434e+07</td>\n",
       "      <td>6.000000</td>\n",
       "      <td>15.000000</td>\n",
       "    </tr>\n",
       "  </tbody>\n",
       "</table>\n",
       "</div>"
      ],
      "text/plain": [
       "        Loan Status  Current Loan Amount          Term  Credit Score  \\\n",
       "count  45671.000000         45671.000000  45671.000000  45671.000000   \n",
       "mean       0.634385         12667.183486      0.247772    720.464562   \n",
       "std        0.481607          7281.235609      0.431723     27.497862   \n",
       "min        0.000000           511.000000      0.000000    585.000000   \n",
       "25%        0.000000          7109.500000      0.000000    709.000000   \n",
       "50%        1.000000         11213.000000      0.000000    729.000000   \n",
       "75%        1.000000         16923.000000      0.000000    740.000000   \n",
       "max        1.000000         35872.000000      1.000000    751.000000   \n",
       "\n",
       "       Years in current job  Home Ownership  Annual Income       Purpose  \\\n",
       "count          45671.000000    45671.000000   45671.000000  45671.000000   \n",
       "mean               5.511988        0.640647   57047.915351      0.981936   \n",
       "std                3.754607        0.650080   20279.752469      0.133184   \n",
       "min                0.000000        0.000000    4033.000000      0.000000   \n",
       "25%                2.000000        0.000000   41048.000000      1.000000   \n",
       "50%                5.000000        1.000000   55407.000000      1.000000   \n",
       "75%               10.000000        1.000000   72003.500000      1.000000   \n",
       "max               10.000000        2.000000   99999.000000      1.000000   \n",
       "\n",
       "       Monthly Debt  Years of Credit History  Months since last delinquent  \\\n",
       "count  45671.000000             45671.000000                  45671.000000   \n",
       "mean     835.399308                17.788369                     15.898842   \n",
       "std      464.586973                 6.903372                     23.039119   \n",
       "min        0.000000                 3.900000                      0.000000   \n",
       "25%      493.440000                13.000000                      0.000000   \n",
       "50%      774.410000                16.500000                      0.000000   \n",
       "75%     1108.655000                21.100000                     29.000000   \n",
       "max     3249.210000                70.500000                    176.000000   \n",
       "\n",
       "       Number of Open Accounts  Number of Credit Problems  \\\n",
       "count             45671.000000               45671.000000   \n",
       "mean                 10.826367                   0.162182   \n",
       "std                   4.837556                   0.465252   \n",
       "min                   1.000000                   0.000000   \n",
       "25%                   7.000000                   0.000000   \n",
       "50%                  10.000000                   0.000000   \n",
       "75%                  13.000000                   0.000000   \n",
       "max                  76.000000                  15.000000   \n",
       "\n",
       "       Current Credit Balance  Maximum Open Credit  Bankruptcies     Tax Liens  \n",
       "count            45671.000000         4.567100e+04  45671.000000  45671.000000  \n",
       "mean             12968.232445         2.889284e+04      0.118981      0.023363  \n",
       "std              11474.688289         2.292603e+05      0.351401      0.236484  \n",
       "min                  0.000000         0.000000e+00      0.000000      0.000000  \n",
       "25%               5615.000000         1.192950e+04      0.000000      0.000000  \n",
       "50%              10171.000000         1.992100e+04      0.000000      0.000000  \n",
       "75%              17043.500000         3.225600e+04      0.000000      0.000000  \n",
       "max             332524.000000         3.628434e+07      6.000000     15.000000  "
      ]
     },
     "execution_count": 3,
     "metadata": {},
     "output_type": "execute_result"
    }
   ],
   "source": [
    "df = pd.DataFrame(raw_data)\n",
    "df.describe()"
   ]
  },
  {
   "cell_type": "code",
   "execution_count": 4,
   "metadata": {
    "collapsed": false
   },
   "outputs": [
    {
     "data": {
      "text/plain": [
       "Loan ID                          object\n",
       "Customer ID                      object\n",
       "Loan Status                       int64\n",
       "Current Loan Amount             float64\n",
       "Term                              int64\n",
       "Credit Score                    float64\n",
       "Years in current job              int64\n",
       "Home Ownership                    int64\n",
       "Annual Income                   float64\n",
       "Purpose                           int64\n",
       "Monthly Debt                    float64\n",
       "Years of Credit History         float64\n",
       "Months since last delinquent      int64\n",
       "Number of Open Accounts           int64\n",
       "Number of Credit Problems         int64\n",
       "Current Credit Balance            int64\n",
       "Maximum Open Credit               int64\n",
       "Bankruptcies                      int64\n",
       "Tax Liens                         int64\n",
       "dtype: object"
      ]
     },
     "execution_count": 4,
     "metadata": {},
     "output_type": "execute_result"
    }
   ],
   "source": [
    "df.dtypes"
   ]
  },
  {
   "cell_type": "code",
   "execution_count": 5,
   "metadata": {
    "collapsed": true
   },
   "outputs": [],
   "source": [
    "## Create pair-wise scatter plots         \n",
    "def plot_pairs(data_cols, df):\n",
    "    import matplotlib.pyplot as plt\n",
    "    from pandas.tools.plotting import scatter_matrix\n",
    "    fig = plt.figure(figsize=(36, 36))\n",
    "    fig.clf()\n",
    "    ax = fig.gca()\n",
    "    scatter_matrix(df[data_cols], alpha=0.3, \n",
    "               diagonal='kde', ax = ax)\n",
    "    return 'Done' "
   ]
  },
  {
   "cell_type": "code",
   "execution_count": 6,
   "metadata": {
    "collapsed": true
   },
   "outputs": [],
   "source": [
    "## Function to plot conditioned histograms\n",
    "def cond_hists(df, data_cols, grid_col):\n",
    "    import matplotlib.pyplot as plt\n",
    "    import seaborn as sns\n",
    "    ## Loop over the list of columns\n",
    "    for col in data_cols:\n",
    "        grid1 = sns.FacetGrid(df, col=grid_col)\n",
    "        grid1.map(plt.hist, col, alpha=.7)\n",
    "    return grid_col"
   ]
  },
  {
   "cell_type": "code",
   "execution_count": 7,
   "metadata": {
    "collapsed": true
   },
   "outputs": [],
   "source": [
    "## Plot categorical variables as box plots\n",
    "def cond_boxplot(data_cols, df, by_col):\n",
    "    import numpy as np\n",
    "    import matplotlib.pyplot as plt\n",
    "    \n",
    "    cols = data_cols\n",
    "    for col in cols:\n",
    "        if(df[col].dtype in [np.int64, np.int32, np.float64]):                  \n",
    "            fig = plt.figure(figsize = (5,5))\n",
    "            fig.clf()\n",
    "            ax = fig.gca() \n",
    "            df.boxplot(column = [col], ax = ax, by = by_col)          \n",
    "    return('Done') "
   ]
  },
  {
   "cell_type": "code",
   "execution_count": 8,
   "metadata": {
    "collapsed": false
   },
   "outputs": [],
   "source": [
    "ft_cols = df.columns.tolist() # feature columns to plot\n",
    "ft_cols.remove(\"Loan Status\")\n",
    "ft_cols.remove(\"Loan ID\")\n",
    "ft_cols.remove(\"Customer ID\")"
   ]
  },
  {
   "cell_type": "code",
   "execution_count": 9,
   "metadata": {
    "collapsed": false
   },
   "outputs": [
    {
     "ename": "TypeError",
     "evalue": "'type' object has no attribute '__getitem__'",
     "output_type": "error",
     "traceback": [
      "\u001b[0;31m---------------------------------------------------------------------------\u001b[0m",
      "\u001b[0;31mTypeError\u001b[0m                                 Traceback (most recent call last)",
      "\u001b[0;32m<ipython-input-9-84b7d89d0182>\u001b[0m in \u001b[0;36m<module>\u001b[0;34m()\u001b[0m\n\u001b[0;32m----> 1\u001b[0;31m \u001b[0mcv_cols\u001b[0m \u001b[0;34m=\u001b[0m \u001b[0mlist\u001b[0m\u001b[0;34m[\u001b[0m\u001b[0mft_cols\u001b[0m\u001b[0;34m]\u001b[0m \u001b[0;31m# columns to convert to logarithm\u001b[0m\u001b[0;34m\u001b[0m\u001b[0m\n\u001b[0m\u001b[1;32m      2\u001b[0m \u001b[0mcv_cols\u001b[0m\u001b[0;34m.\u001b[0m\u001b[0mremove\u001b[0m\u001b[0;34m(\u001b[0m\u001b[0;34m\"Purpose\"\u001b[0m\u001b[0;34m)\u001b[0m\u001b[0;34m\u001b[0m\u001b[0m\n\u001b[1;32m      3\u001b[0m \u001b[0mcv_cols\u001b[0m\u001b[0;34m.\u001b[0m\u001b[0mremove\u001b[0m\u001b[0;34m(\u001b[0m\u001b[0;34m\"Term\"\u001b[0m\u001b[0;34m)\u001b[0m\u001b[0;34m\u001b[0m\u001b[0m\n\u001b[1;32m      4\u001b[0m \u001b[0mcv_cols\u001b[0m\u001b[0;34m.\u001b[0m\u001b[0mremove\u001b[0m\u001b[0;34m(\u001b[0m\u001b[0;34m\"Home Ownership\"\u001b[0m\u001b[0;34m)\u001b[0m\u001b[0;34m\u001b[0m\u001b[0m\n\u001b[1;32m      5\u001b[0m \u001b[0mlog_cols\u001b[0m \u001b[0;34m=\u001b[0m \u001b[0;34m[\u001b[0m\u001b[0;34m]\u001b[0m \u001b[0;31m# new log columns\u001b[0m\u001b[0;34m\u001b[0m\u001b[0m\n",
      "\u001b[0;31mTypeError\u001b[0m: 'type' object has no attribute '__getitem__'"
     ]
    }
   ],
   "source": [
    "cv_cols = list(ft_cols) # columns to convert to logarithm\n",
    "cv_cols.remove(\"Purpose\")\n",
    "cv_cols.remove(\"Term\")\n",
    "cv_cols.remove(\"Home Ownership\")\n",
    "log_cols = list() # new log columns\n",
    "for col in cv_cols:\n",
    "    log_cols.append(\"LOG_\"+col)\n",
    "    df[\"LOG_\"+col] = df[col].apply(lambda x: np.log(x) if x>0 else 0)"
   ]
  },
  {
   "cell_type": "code",
   "execution_count": null,
   "metadata": {
    "collapsed": false,
    "scrolled": true
   },
   "outputs": [],
   "source": [
    "df.describe()"
   ]
  },
  {
   "cell_type": "code",
   "execution_count": null,
   "metadata": {
    "collapsed": false,
    "scrolled": true
   },
   "outputs": [],
   "source": [
    "df.corr()"
   ]
  },
  {
   "cell_type": "code",
   "execution_count": null,
   "metadata": {
    "collapsed": false,
    "scrolled": false
   },
   "outputs": [],
   "source": [
    "cond_boxplot(log_cols, df, \"Loan Status\")"
   ]
  },
  {
   "cell_type": "code",
   "execution_count": null,
   "metadata": {
    "collapsed": false
   },
   "outputs": [],
   "source": [
    "cond_hist(df, log_cols, \"Loan Status\")"
   ]
  },
  {
   "cell_type": "code",
   "execution_count": null,
   "metadata": {
    "collapsed": true
   },
   "outputs": [],
   "source": []
  }
 ],
 "metadata": {
  "kernelspec": {
   "display_name": "Python 2",
   "language": "python",
   "name": "python2"
  },
  "language_info": {
   "codemirror_mode": {
    "name": "ipython",
    "version": 2
   },
   "file_extension": ".py",
   "mimetype": "text/x-python",
   "name": "python",
   "nbconvert_exporter": "python",
   "pygments_lexer": "ipython2",
   "version": "2.7.13"
  }
 },
 "nbformat": 4,
 "nbformat_minor": 0
}
