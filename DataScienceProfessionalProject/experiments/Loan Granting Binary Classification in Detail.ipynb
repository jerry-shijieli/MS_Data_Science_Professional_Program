{
 "cells": [
  {
   "cell_type": "code",
   "execution_count": 1,
   "metadata": {
    "collapsed": true
   },
   "outputs": [],
   "source": [
    "import numpy as np\n",
    "import pandas as pd\n",
    "import matplotlib.pyplot as plt\n",
    "%matplotlib inline"
   ]
  },
  {
   "cell_type": "code",
   "execution_count": 2,
   "metadata": {
    "collapsed": false
   },
   "outputs": [
    {
     "name": "stderr",
     "output_type": "stream",
     "text": [
      "/Users/Jerry/anaconda/lib/python2.7/site-packages/IPython/core/interactiveshell.py:2705: DtypeWarning: Columns (10,16) have mixed types. Specify dtype option on import or set low_memory=False.\n",
      "  interactivity=interactivity, compiler=compiler, result=result)\n"
     ]
    }
   ],
   "source": [
    "datafile = \"LoansTrainingSetV2.csv\"\n",
    "raw_data = pd.read_csv(datafile, header=0)"
   ]
  },
  {
   "cell_type": "code",
   "execution_count": 3,
   "metadata": {
    "collapsed": false,
    "scrolled": true
   },
   "outputs": [
    {
     "data": {
      "text/html": [
       "<div>\n",
       "<table border=\"1\" class=\"dataframe\">\n",
       "  <thead>\n",
       "    <tr style=\"text-align: right;\">\n",
       "      <th></th>\n",
       "      <th>Loan ID</th>\n",
       "      <th>Customer ID</th>\n",
       "      <th>Loan Status</th>\n",
       "      <th>Current Loan Amount</th>\n",
       "      <th>Term</th>\n",
       "      <th>Credit Score</th>\n",
       "      <th>Years in current job</th>\n",
       "      <th>Home Ownership</th>\n",
       "      <th>Annual Income</th>\n",
       "      <th>Purpose</th>\n",
       "      <th>Monthly Debt</th>\n",
       "      <th>Years of Credit History</th>\n",
       "      <th>Months since last delinquent</th>\n",
       "      <th>Number of Open Accounts</th>\n",
       "      <th>Number of Credit Problems</th>\n",
       "      <th>Current Credit Balance</th>\n",
       "      <th>Maximum Open Credit</th>\n",
       "      <th>Bankruptcies</th>\n",
       "      <th>Tax Liens</th>\n",
       "    </tr>\n",
       "  </thead>\n",
       "  <tbody>\n",
       "    <tr>\n",
       "      <th>0</th>\n",
       "      <td>6cf51492-02a2-423e-b93d-676f05b9ad53</td>\n",
       "      <td>7c202b37-2add-44e8-9aea-d5b119aea935</td>\n",
       "      <td>Charged Off</td>\n",
       "      <td>12232</td>\n",
       "      <td>Short Term</td>\n",
       "      <td>7280.0</td>\n",
       "      <td>&lt; 1 year</td>\n",
       "      <td>Rent</td>\n",
       "      <td>46643.0</td>\n",
       "      <td>Debt Consolidation</td>\n",
       "      <td>777.39</td>\n",
       "      <td>18.0</td>\n",
       "      <td>10.0</td>\n",
       "      <td>12</td>\n",
       "      <td>0</td>\n",
       "      <td>6762</td>\n",
       "      <td>7946</td>\n",
       "      <td>0.0</td>\n",
       "      <td>0.0</td>\n",
       "    </tr>\n",
       "    <tr>\n",
       "      <th>1</th>\n",
       "      <td>552e7ade-4292-4354-9ff9-c48031697d72</td>\n",
       "      <td>e7217b0a-07ac-47dd-b379-577b5a35b7c6</td>\n",
       "      <td>Charged Off</td>\n",
       "      <td>25014</td>\n",
       "      <td>Long Term</td>\n",
       "      <td>7330.0</td>\n",
       "      <td>10+ years</td>\n",
       "      <td>Home Mortgage</td>\n",
       "      <td>81099.0</td>\n",
       "      <td>Debt Consolidation</td>\n",
       "      <td>892.09</td>\n",
       "      <td>26.7</td>\n",
       "      <td>NaN</td>\n",
       "      <td>14</td>\n",
       "      <td>0</td>\n",
       "      <td>35706</td>\n",
       "      <td>77961</td>\n",
       "      <td>0.0</td>\n",
       "      <td>0.0</td>\n",
       "    </tr>\n",
       "    <tr>\n",
       "      <th>2</th>\n",
       "      <td>9b5e32b3-8d76-4801-afc8-d729d5a2e6b9</td>\n",
       "      <td>0a62fc41-16c8-40b5-92ff-9e4b763ce714</td>\n",
       "      <td>Charged Off</td>\n",
       "      <td>16117</td>\n",
       "      <td>Short Term</td>\n",
       "      <td>7240.0</td>\n",
       "      <td>9 years</td>\n",
       "      <td>Home Mortgage</td>\n",
       "      <td>60438.0</td>\n",
       "      <td>Home Improvements</td>\n",
       "      <td>1244.02</td>\n",
       "      <td>16.7</td>\n",
       "      <td>32.0</td>\n",
       "      <td>11</td>\n",
       "      <td>1</td>\n",
       "      <td>11275</td>\n",
       "      <td>14815</td>\n",
       "      <td>1.0</td>\n",
       "      <td>0.0</td>\n",
       "    </tr>\n",
       "    <tr>\n",
       "      <th>3</th>\n",
       "      <td>5419b7c7-ac11-4be2-a8a7-b131fb6d6dbe</td>\n",
       "      <td>30f36c59-5182-4482-8bbb-5b736849ae43</td>\n",
       "      <td>Charged Off</td>\n",
       "      <td>11716</td>\n",
       "      <td>Short Term</td>\n",
       "      <td>7400.0</td>\n",
       "      <td>3 years</td>\n",
       "      <td>Rent</td>\n",
       "      <td>34171.0</td>\n",
       "      <td>Debt Consolidation</td>\n",
       "      <td>990.94</td>\n",
       "      <td>10.0</td>\n",
       "      <td>NaN</td>\n",
       "      <td>21</td>\n",
       "      <td>0</td>\n",
       "      <td>7009</td>\n",
       "      <td>43533</td>\n",
       "      <td>0.0</td>\n",
       "      <td>0.0</td>\n",
       "    </tr>\n",
       "    <tr>\n",
       "      <th>4</th>\n",
       "      <td>1450910f-9495-4fc9-afaf-9bdf4b9821df</td>\n",
       "      <td>70c26012-bba5-42c0-8dcb-75295ada31bb</td>\n",
       "      <td>Charged Off</td>\n",
       "      <td>9789</td>\n",
       "      <td>Long Term</td>\n",
       "      <td>6860.0</td>\n",
       "      <td>10+ years</td>\n",
       "      <td>Home Mortgage</td>\n",
       "      <td>47003.0</td>\n",
       "      <td>Home Improvements</td>\n",
       "      <td>503.71</td>\n",
       "      <td>16.7</td>\n",
       "      <td>25.0</td>\n",
       "      <td>13</td>\n",
       "      <td>1</td>\n",
       "      <td>16913</td>\n",
       "      <td>19553</td>\n",
       "      <td>1.0</td>\n",
       "      <td>0.0</td>\n",
       "    </tr>\n",
       "    <tr>\n",
       "      <th>5</th>\n",
       "      <td>7e9f6759-6a13-48ef-adfa-ef9fbcfcfcc8</td>\n",
       "      <td>05301ee5-29ec-48b6-b3e5-0813ea25d684</td>\n",
       "      <td>Charged Off</td>\n",
       "      <td>11911</td>\n",
       "      <td>Short Term</td>\n",
       "      <td>7420.0</td>\n",
       "      <td>2 years</td>\n",
       "      <td>Home Mortgage</td>\n",
       "      <td>70475.0</td>\n",
       "      <td>other</td>\n",
       "      <td>886.81</td>\n",
       "      <td>17.7</td>\n",
       "      <td>NaN</td>\n",
       "      <td>13</td>\n",
       "      <td>0</td>\n",
       "      <td>28212</td>\n",
       "      <td>59897</td>\n",
       "      <td>0.0</td>\n",
       "      <td>0.0</td>\n",
       "    </tr>\n",
       "    <tr>\n",
       "      <th>6</th>\n",
       "      <td>c2b0aa3e-555b-441b-a4aa-e0e4a52c87d3</td>\n",
       "      <td>db3e74ec-2123-4608-be8d-a93e98cabfcf</td>\n",
       "      <td>Charged Off</td>\n",
       "      <td>28988</td>\n",
       "      <td>Short Term</td>\n",
       "      <td>7420.0</td>\n",
       "      <td>3 years</td>\n",
       "      <td>Home Mortgage</td>\n",
       "      <td>58074.0</td>\n",
       "      <td>Debt Consolidation</td>\n",
       "      <td>871.11</td>\n",
       "      <td>22.8</td>\n",
       "      <td>NaN</td>\n",
       "      <td>9</td>\n",
       "      <td>0</td>\n",
       "      <td>14423</td>\n",
       "      <td>54018</td>\n",
       "      <td>0.0</td>\n",
       "      <td>0.0</td>\n",
       "    </tr>\n",
       "    <tr>\n",
       "      <th>7</th>\n",
       "      <td>233e0119-6dfe-47c0-a212-b4cc00371c8d</td>\n",
       "      <td>def66e46-951e-4bff-bf96-87ae6e092e19</td>\n",
       "      <td>Charged Off</td>\n",
       "      <td>17705</td>\n",
       "      <td>Long Term</td>\n",
       "      <td>6630.0</td>\n",
       "      <td>3 years</td>\n",
       "      <td>Own Home</td>\n",
       "      <td>49180.0</td>\n",
       "      <td>Debt Consolidation</td>\n",
       "      <td>274.59</td>\n",
       "      <td>30.2</td>\n",
       "      <td>NaN</td>\n",
       "      <td>10</td>\n",
       "      <td>1</td>\n",
       "      <td>4252</td>\n",
       "      <td>25012</td>\n",
       "      <td>1.0</td>\n",
       "      <td>0.0</td>\n",
       "    </tr>\n",
       "    <tr>\n",
       "      <th>8</th>\n",
       "      <td>fc9d109b-15c2-4fe3-b7d8-27610b89f80b</td>\n",
       "      <td>f54c53e4-acd7-4e29-8f55-d2a247a4b62a</td>\n",
       "      <td>Charged Off</td>\n",
       "      <td>16812</td>\n",
       "      <td>Short Term</td>\n",
       "      <td>7360.0</td>\n",
       "      <td>7 years</td>\n",
       "      <td>Rent</td>\n",
       "      <td>50945.0</td>\n",
       "      <td>Debt Consolidation</td>\n",
       "      <td>590.12</td>\n",
       "      <td>14.6</td>\n",
       "      <td>NaN</td>\n",
       "      <td>9</td>\n",
       "      <td>0</td>\n",
       "      <td>12903</td>\n",
       "      <td>15379</td>\n",
       "      <td>0.0</td>\n",
       "      <td>0.0</td>\n",
       "    </tr>\n",
       "    <tr>\n",
       "      <th>9</th>\n",
       "      <td>35ee60ed-df2d-4d3a-98ba-03d944d65c74</td>\n",
       "      <td>93cbb4b9-4e88-4b93-8beb-a2a00d415cd5</td>\n",
       "      <td>Charged Off</td>\n",
       "      <td>9796</td>\n",
       "      <td>Long Term</td>\n",
       "      <td>6720.0</td>\n",
       "      <td>&lt; 1 year</td>\n",
       "      <td>Rent</td>\n",
       "      <td>58776.0</td>\n",
       "      <td>Debt Consolidation</td>\n",
       "      <td>666.13</td>\n",
       "      <td>9.4</td>\n",
       "      <td>17.0</td>\n",
       "      <td>12</td>\n",
       "      <td>0</td>\n",
       "      <td>4939</td>\n",
       "      <td>15198</td>\n",
       "      <td>0.0</td>\n",
       "      <td>0.0</td>\n",
       "    </tr>\n",
       "    <tr>\n",
       "      <th>10</th>\n",
       "      <td>9634dd33-b16d-49f8-b9f6-2d9e1578798c</td>\n",
       "      <td>0d82eca5-ee60-4ebe-8387-54f1153a326f</td>\n",
       "      <td>Charged Off</td>\n",
       "      <td>19838</td>\n",
       "      <td>Long Term</td>\n",
       "      <td>7010.0</td>\n",
       "      <td>6 years</td>\n",
       "      <td>Home Mortgage</td>\n",
       "      <td>79352.0</td>\n",
       "      <td>Debt Consolidation</td>\n",
       "      <td>$1051.41</td>\n",
       "      <td>14.3</td>\n",
       "      <td>6.0</td>\n",
       "      <td>13</td>\n",
       "      <td>0</td>\n",
       "      <td>15780</td>\n",
       "      <td>22511</td>\n",
       "      <td>0.0</td>\n",
       "      <td>0.0</td>\n",
       "    </tr>\n",
       "    <tr>\n",
       "      <th>11</th>\n",
       "      <td>7d8dddd0-3c5a-4e37-a8b6-1d7f20f68397</td>\n",
       "      <td>00647781-a770-4ba8-8259-48473ffe2a56</td>\n",
       "      <td>Charged Off</td>\n",
       "      <td>18392</td>\n",
       "      <td>Long Term</td>\n",
       "      <td>7310.0</td>\n",
       "      <td>1 year</td>\n",
       "      <td>Rent</td>\n",
       "      <td>44959.0</td>\n",
       "      <td>Debt Consolidation</td>\n",
       "      <td>569.48</td>\n",
       "      <td>15.4</td>\n",
       "      <td>NaN</td>\n",
       "      <td>7</td>\n",
       "      <td>0</td>\n",
       "      <td>7085</td>\n",
       "      <td>11750</td>\n",
       "      <td>0.0</td>\n",
       "      <td>0.0</td>\n",
       "    </tr>\n",
       "    <tr>\n",
       "      <th>12</th>\n",
       "      <td>0779025a-3e68-4c58-bec2-8ca929207701</td>\n",
       "      <td>356e7d80-a879-4ee1-8023-e7b007dd9381</td>\n",
       "      <td>Charged Off</td>\n",
       "      <td>29496</td>\n",
       "      <td>Long Term</td>\n",
       "      <td>6850.0</td>\n",
       "      <td>3 years</td>\n",
       "      <td>Rent</td>\n",
       "      <td>76690.0</td>\n",
       "      <td>Debt Consolidation</td>\n",
       "      <td>1329.29</td>\n",
       "      <td>32.2</td>\n",
       "      <td>NaN</td>\n",
       "      <td>10</td>\n",
       "      <td>0</td>\n",
       "      <td>27643</td>\n",
       "      <td>44801</td>\n",
       "      <td>0.0</td>\n",
       "      <td>0.0</td>\n",
       "    </tr>\n",
       "    <tr>\n",
       "      <th>13</th>\n",
       "      <td>30931f26-c9a5-43c4-a724-24f5b1fde039</td>\n",
       "      <td>84f232ce-7738-4b84-9834-84f1735856aa</td>\n",
       "      <td>Charged Off</td>\n",
       "      <td>34276</td>\n",
       "      <td>Long Term</td>\n",
       "      <td>6280.0</td>\n",
       "      <td>10+ years</td>\n",
       "      <td>Home Mortgage</td>\n",
       "      <td>141019.0</td>\n",
       "      <td>other</td>\n",
       "      <td>2632.36</td>\n",
       "      <td>19.9</td>\n",
       "      <td>14.0</td>\n",
       "      <td>19</td>\n",
       "      <td>0</td>\n",
       "      <td>20223</td>\n",
       "      <td>31747</td>\n",
       "      <td>0.0</td>\n",
       "      <td>0.0</td>\n",
       "    </tr>\n",
       "    <tr>\n",
       "      <th>14</th>\n",
       "      <td>18e58e4b-90fc-4248-99f6-02ed33e8310f</td>\n",
       "      <td>a415393e-38d1-4622-aea9-cd9b6addc3c2</td>\n",
       "      <td>Charged Off</td>\n",
       "      <td>18230</td>\n",
       "      <td>Short Term</td>\n",
       "      <td>7470.0</td>\n",
       "      <td>5 years</td>\n",
       "      <td>Rent</td>\n",
       "      <td>151920.0</td>\n",
       "      <td>Business Loan</td>\n",
       "      <td>778.59</td>\n",
       "      <td>26.4</td>\n",
       "      <td>NaN</td>\n",
       "      <td>9</td>\n",
       "      <td>0</td>\n",
       "      <td>5663</td>\n",
       "      <td>29039</td>\n",
       "      <td>0.0</td>\n",
       "      <td>0.0</td>\n",
       "    </tr>\n",
       "    <tr>\n",
       "      <th>15</th>\n",
       "      <td>cead3a3f-1294-4558-9688-60b92eb2d369</td>\n",
       "      <td>aa26c11c-174a-4f04-938f-5c07fe83d8f3</td>\n",
       "      <td>Charged Off</td>\n",
       "      <td>19660</td>\n",
       "      <td>Long Term</td>\n",
       "      <td>7310.0</td>\n",
       "      <td>&lt; 1 year</td>\n",
       "      <td>Rent</td>\n",
       "      <td>58980.0</td>\n",
       "      <td>Debt Consolidation</td>\n",
       "      <td>973.17</td>\n",
       "      <td>15.6</td>\n",
       "      <td>NaN</td>\n",
       "      <td>5</td>\n",
       "      <td>0</td>\n",
       "      <td>23917</td>\n",
       "      <td>33829</td>\n",
       "      <td>0.0</td>\n",
       "      <td>0.0</td>\n",
       "    </tr>\n",
       "    <tr>\n",
       "      <th>16</th>\n",
       "      <td>18cf82cd-f0e6-452e-8429-2a1e70b056ec</td>\n",
       "      <td>a02200bf-f505-4223-aec7-2d1ae72c4426</td>\n",
       "      <td>Charged Off</td>\n",
       "      <td>24341</td>\n",
       "      <td>Long Term</td>\n",
       "      <td>7200.0</td>\n",
       "      <td>3 years</td>\n",
       "      <td>Rent</td>\n",
       "      <td>99392.0</td>\n",
       "      <td>Debt Consolidation</td>\n",
       "      <td>2360.55</td>\n",
       "      <td>17.1</td>\n",
       "      <td>NaN</td>\n",
       "      <td>8</td>\n",
       "      <td>0</td>\n",
       "      <td>16604</td>\n",
       "      <td>21288</td>\n",
       "      <td>0.0</td>\n",
       "      <td>0.0</td>\n",
       "    </tr>\n",
       "    <tr>\n",
       "      <th>17</th>\n",
       "      <td>1e3cabdc-ce1c-4449-bbd2-282fea49ab00</td>\n",
       "      <td>22e2f182-2ef4-4ec2-ba19-e601ecf13118</td>\n",
       "      <td>Charged Off</td>\n",
       "      <td>21350</td>\n",
       "      <td>Long Term</td>\n",
       "      <td>7320.0</td>\n",
       "      <td>10+ years</td>\n",
       "      <td>Rent</td>\n",
       "      <td>58626.0</td>\n",
       "      <td>small_business</td>\n",
       "      <td>723.05</td>\n",
       "      <td>15.0</td>\n",
       "      <td>NaN</td>\n",
       "      <td>4</td>\n",
       "      <td>0</td>\n",
       "      <td>4085</td>\n",
       "      <td>4886</td>\n",
       "      <td>0.0</td>\n",
       "      <td>0.0</td>\n",
       "    </tr>\n",
       "    <tr>\n",
       "      <th>18</th>\n",
       "      <td>286127c0-04c4-43f9-9bf5-2bc4d691bfa6</td>\n",
       "      <td>a6ce9c02-ea44-4e7b-a86d-7f10ad518930</td>\n",
       "      <td>Charged Off</td>\n",
       "      <td>8792</td>\n",
       "      <td>Short Term</td>\n",
       "      <td>7330.0</td>\n",
       "      <td>10+ years</td>\n",
       "      <td>Own Home</td>\n",
       "      <td>19982.0</td>\n",
       "      <td>Home Improvements</td>\n",
       "      <td>56.95</td>\n",
       "      <td>21.1</td>\n",
       "      <td>NaN</td>\n",
       "      <td>7</td>\n",
       "      <td>0</td>\n",
       "      <td>650</td>\n",
       "      <td>40651</td>\n",
       "      <td>0.0</td>\n",
       "      <td>0.0</td>\n",
       "    </tr>\n",
       "    <tr>\n",
       "      <th>19</th>\n",
       "      <td>753d4c56-3e8b-4fa6-a920-c7df31f6777f</td>\n",
       "      <td>df542e57-2fe5-4e4e-85d1-0e85eebcd326</td>\n",
       "      <td>Charged Off</td>\n",
       "      <td>10958</td>\n",
       "      <td>Long Term</td>\n",
       "      <td>6820.0</td>\n",
       "      <td>9 years</td>\n",
       "      <td>Home Mortgage</td>\n",
       "      <td>53812.0</td>\n",
       "      <td>Debt Consolidation</td>\n",
       "      <td>995.52</td>\n",
       "      <td>15.3</td>\n",
       "      <td>NaN</td>\n",
       "      <td>13</td>\n",
       "      <td>0</td>\n",
       "      <td>12336</td>\n",
       "      <td>21123</td>\n",
       "      <td>0.0</td>\n",
       "      <td>0.0</td>\n",
       "    </tr>\n",
       "  </tbody>\n",
       "</table>\n",
       "</div>"
      ],
      "text/plain": [
       "                                 Loan ID  \\\n",
       "0   6cf51492-02a2-423e-b93d-676f05b9ad53   \n",
       "1   552e7ade-4292-4354-9ff9-c48031697d72   \n",
       "2   9b5e32b3-8d76-4801-afc8-d729d5a2e6b9   \n",
       "3   5419b7c7-ac11-4be2-a8a7-b131fb6d6dbe   \n",
       "4   1450910f-9495-4fc9-afaf-9bdf4b9821df   \n",
       "5   7e9f6759-6a13-48ef-adfa-ef9fbcfcfcc8   \n",
       "6   c2b0aa3e-555b-441b-a4aa-e0e4a52c87d3   \n",
       "7   233e0119-6dfe-47c0-a212-b4cc00371c8d   \n",
       "8   fc9d109b-15c2-4fe3-b7d8-27610b89f80b   \n",
       "9   35ee60ed-df2d-4d3a-98ba-03d944d65c74   \n",
       "10  9634dd33-b16d-49f8-b9f6-2d9e1578798c   \n",
       "11  7d8dddd0-3c5a-4e37-a8b6-1d7f20f68397   \n",
       "12  0779025a-3e68-4c58-bec2-8ca929207701   \n",
       "13  30931f26-c9a5-43c4-a724-24f5b1fde039   \n",
       "14  18e58e4b-90fc-4248-99f6-02ed33e8310f   \n",
       "15  cead3a3f-1294-4558-9688-60b92eb2d369   \n",
       "16  18cf82cd-f0e6-452e-8429-2a1e70b056ec   \n",
       "17  1e3cabdc-ce1c-4449-bbd2-282fea49ab00   \n",
       "18  286127c0-04c4-43f9-9bf5-2bc4d691bfa6   \n",
       "19  753d4c56-3e8b-4fa6-a920-c7df31f6777f   \n",
       "\n",
       "                             Customer ID  Loan Status  Current Loan Amount  \\\n",
       "0   7c202b37-2add-44e8-9aea-d5b119aea935  Charged Off                12232   \n",
       "1   e7217b0a-07ac-47dd-b379-577b5a35b7c6  Charged Off                25014   \n",
       "2   0a62fc41-16c8-40b5-92ff-9e4b763ce714  Charged Off                16117   \n",
       "3   30f36c59-5182-4482-8bbb-5b736849ae43  Charged Off                11716   \n",
       "4   70c26012-bba5-42c0-8dcb-75295ada31bb  Charged Off                 9789   \n",
       "5   05301ee5-29ec-48b6-b3e5-0813ea25d684  Charged Off                11911   \n",
       "6   db3e74ec-2123-4608-be8d-a93e98cabfcf  Charged Off                28988   \n",
       "7   def66e46-951e-4bff-bf96-87ae6e092e19  Charged Off                17705   \n",
       "8   f54c53e4-acd7-4e29-8f55-d2a247a4b62a  Charged Off                16812   \n",
       "9   93cbb4b9-4e88-4b93-8beb-a2a00d415cd5  Charged Off                 9796   \n",
       "10  0d82eca5-ee60-4ebe-8387-54f1153a326f  Charged Off                19838   \n",
       "11  00647781-a770-4ba8-8259-48473ffe2a56  Charged Off                18392   \n",
       "12  356e7d80-a879-4ee1-8023-e7b007dd9381  Charged Off                29496   \n",
       "13  84f232ce-7738-4b84-9834-84f1735856aa  Charged Off                34276   \n",
       "14  a415393e-38d1-4622-aea9-cd9b6addc3c2  Charged Off                18230   \n",
       "15  aa26c11c-174a-4f04-938f-5c07fe83d8f3  Charged Off                19660   \n",
       "16  a02200bf-f505-4223-aec7-2d1ae72c4426  Charged Off                24341   \n",
       "17  22e2f182-2ef4-4ec2-ba19-e601ecf13118  Charged Off                21350   \n",
       "18  a6ce9c02-ea44-4e7b-a86d-7f10ad518930  Charged Off                 8792   \n",
       "19  df542e57-2fe5-4e4e-85d1-0e85eebcd326  Charged Off                10958   \n",
       "\n",
       "          Term  Credit Score Years in current job Home Ownership  \\\n",
       "0   Short Term        7280.0             < 1 year           Rent   \n",
       "1    Long Term        7330.0            10+ years  Home Mortgage   \n",
       "2   Short Term        7240.0              9 years  Home Mortgage   \n",
       "3   Short Term        7400.0              3 years           Rent   \n",
       "4    Long Term        6860.0            10+ years  Home Mortgage   \n",
       "5   Short Term        7420.0              2 years  Home Mortgage   \n",
       "6   Short Term        7420.0              3 years  Home Mortgage   \n",
       "7    Long Term        6630.0              3 years       Own Home   \n",
       "8   Short Term        7360.0              7 years           Rent   \n",
       "9    Long Term        6720.0             < 1 year           Rent   \n",
       "10   Long Term        7010.0              6 years  Home Mortgage   \n",
       "11   Long Term        7310.0               1 year           Rent   \n",
       "12   Long Term        6850.0              3 years           Rent   \n",
       "13   Long Term        6280.0            10+ years  Home Mortgage   \n",
       "14  Short Term        7470.0              5 years           Rent   \n",
       "15   Long Term        7310.0             < 1 year           Rent   \n",
       "16   Long Term        7200.0              3 years           Rent   \n",
       "17   Long Term        7320.0            10+ years           Rent   \n",
       "18  Short Term        7330.0            10+ years       Own Home   \n",
       "19   Long Term        6820.0              9 years  Home Mortgage   \n",
       "\n",
       "    Annual Income             Purpose Monthly Debt  Years of Credit History  \\\n",
       "0         46643.0  Debt Consolidation       777.39                     18.0   \n",
       "1         81099.0  Debt Consolidation       892.09                     26.7   \n",
       "2         60438.0   Home Improvements      1244.02                     16.7   \n",
       "3         34171.0  Debt Consolidation       990.94                     10.0   \n",
       "4         47003.0   Home Improvements       503.71                     16.7   \n",
       "5         70475.0               other       886.81                     17.7   \n",
       "6         58074.0  Debt Consolidation       871.11                     22.8   \n",
       "7         49180.0  Debt Consolidation       274.59                     30.2   \n",
       "8         50945.0  Debt Consolidation       590.12                     14.6   \n",
       "9         58776.0  Debt Consolidation       666.13                      9.4   \n",
       "10        79352.0  Debt Consolidation     $1051.41                     14.3   \n",
       "11        44959.0  Debt Consolidation       569.48                     15.4   \n",
       "12        76690.0  Debt Consolidation      1329.29                     32.2   \n",
       "13       141019.0               other      2632.36                     19.9   \n",
       "14       151920.0       Business Loan       778.59                     26.4   \n",
       "15        58980.0  Debt Consolidation       973.17                     15.6   \n",
       "16        99392.0  Debt Consolidation      2360.55                     17.1   \n",
       "17        58626.0      small_business       723.05                     15.0   \n",
       "18        19982.0   Home Improvements        56.95                     21.1   \n",
       "19        53812.0  Debt Consolidation       995.52                     15.3   \n",
       "\n",
       "    Months since last delinquent  Number of Open Accounts  \\\n",
       "0                           10.0                       12   \n",
       "1                            NaN                       14   \n",
       "2                           32.0                       11   \n",
       "3                            NaN                       21   \n",
       "4                           25.0                       13   \n",
       "5                            NaN                       13   \n",
       "6                            NaN                        9   \n",
       "7                            NaN                       10   \n",
       "8                            NaN                        9   \n",
       "9                           17.0                       12   \n",
       "10                           6.0                       13   \n",
       "11                           NaN                        7   \n",
       "12                           NaN                       10   \n",
       "13                          14.0                       19   \n",
       "14                           NaN                        9   \n",
       "15                           NaN                        5   \n",
       "16                           NaN                        8   \n",
       "17                           NaN                        4   \n",
       "18                           NaN                        7   \n",
       "19                           NaN                       13   \n",
       "\n",
       "    Number of Credit Problems  Current Credit Balance Maximum Open Credit  \\\n",
       "0                           0                    6762                7946   \n",
       "1                           0                   35706               77961   \n",
       "2                           1                   11275               14815   \n",
       "3                           0                    7009               43533   \n",
       "4                           1                   16913               19553   \n",
       "5                           0                   28212               59897   \n",
       "6                           0                   14423               54018   \n",
       "7                           1                    4252               25012   \n",
       "8                           0                   12903               15379   \n",
       "9                           0                    4939               15198   \n",
       "10                          0                   15780               22511   \n",
       "11                          0                    7085               11750   \n",
       "12                          0                   27643               44801   \n",
       "13                          0                   20223               31747   \n",
       "14                          0                    5663               29039   \n",
       "15                          0                   23917               33829   \n",
       "16                          0                   16604               21288   \n",
       "17                          0                    4085                4886   \n",
       "18                          0                     650               40651   \n",
       "19                          0                   12336               21123   \n",
       "\n",
       "    Bankruptcies  Tax Liens  \n",
       "0            0.0        0.0  \n",
       "1            0.0        0.0  \n",
       "2            1.0        0.0  \n",
       "3            0.0        0.0  \n",
       "4            1.0        0.0  \n",
       "5            0.0        0.0  \n",
       "6            0.0        0.0  \n",
       "7            1.0        0.0  \n",
       "8            0.0        0.0  \n",
       "9            0.0        0.0  \n",
       "10           0.0        0.0  \n",
       "11           0.0        0.0  \n",
       "12           0.0        0.0  \n",
       "13           0.0        0.0  \n",
       "14           0.0        0.0  \n",
       "15           0.0        0.0  \n",
       "16           0.0        0.0  \n",
       "17           0.0        0.0  \n",
       "18           0.0        0.0  \n",
       "19           0.0        0.0  "
      ]
     },
     "execution_count": 3,
     "metadata": {},
     "output_type": "execute_result"
    }
   ],
   "source": [
    "raw_data.head(20)"
   ]
  },
  {
   "cell_type": "code",
   "execution_count": 4,
   "metadata": {
    "collapsed": false
   },
   "outputs": [
    {
     "data": {
      "text/html": [
       "<div>\n",
       "<table border=\"1\" class=\"dataframe\">\n",
       "  <thead>\n",
       "    <tr style=\"text-align: right;\">\n",
       "      <th></th>\n",
       "      <th>Current Loan Amount</th>\n",
       "      <th>Credit Score</th>\n",
       "      <th>Annual Income</th>\n",
       "      <th>Years of Credit History</th>\n",
       "      <th>Months since last delinquent</th>\n",
       "      <th>Number of Open Accounts</th>\n",
       "      <th>Number of Credit Problems</th>\n",
       "      <th>Current Credit Balance</th>\n",
       "      <th>Bankruptcies</th>\n",
       "      <th>Tax Liens</th>\n",
       "    </tr>\n",
       "  </thead>\n",
       "  <tbody>\n",
       "    <tr>\n",
       "      <th>count</th>\n",
       "      <td>1.111070e+05</td>\n",
       "      <td>89769.000000</td>\n",
       "      <td>8.976900e+04</td>\n",
       "      <td>111107.000000</td>\n",
       "      <td>52104.000000</td>\n",
       "      <td>111107.000000</td>\n",
       "      <td>111107.000000</td>\n",
       "      <td>1.111070e+05</td>\n",
       "      <td>110879.00000</td>\n",
       "      <td>111096.000000</td>\n",
       "    </tr>\n",
       "    <tr>\n",
       "      <th>mean</th>\n",
       "      <td>1.147718e+07</td>\n",
       "      <td>1075.795029</td>\n",
       "      <td>7.248600e+04</td>\n",
       "      <td>18.201003</td>\n",
       "      <td>34.902272</td>\n",
       "      <td>11.125105</td>\n",
       "      <td>0.168027</td>\n",
       "      <td>1.548314e+04</td>\n",
       "      <td>0.11766</td>\n",
       "      <td>0.029353</td>\n",
       "    </tr>\n",
       "    <tr>\n",
       "      <th>std</th>\n",
       "      <td>3.185508e+07</td>\n",
       "      <td>1474.133505</td>\n",
       "      <td>5.593094e+04</td>\n",
       "      <td>7.014495</td>\n",
       "      <td>21.970696</td>\n",
       "      <td>5.010267</td>\n",
       "      <td>0.484212</td>\n",
       "      <td>1.982115e+04</td>\n",
       "      <td>0.35142</td>\n",
       "      <td>0.260575</td>\n",
       "    </tr>\n",
       "    <tr>\n",
       "      <th>min</th>\n",
       "      <td>4.910000e+02</td>\n",
       "      <td>585.000000</td>\n",
       "      <td>4.033000e+03</td>\n",
       "      <td>3.600000</td>\n",
       "      <td>0.000000</td>\n",
       "      <td>0.000000</td>\n",
       "      <td>0.000000</td>\n",
       "      <td>0.000000e+00</td>\n",
       "      <td>0.00000</td>\n",
       "      <td>0.000000</td>\n",
       "    </tr>\n",
       "    <tr>\n",
       "      <th>25%</th>\n",
       "      <td>8.162000e+03</td>\n",
       "      <td>705.000000</td>\n",
       "      <td>4.468800e+04</td>\n",
       "      <td>13.500000</td>\n",
       "      <td>16.000000</td>\n",
       "      <td>8.000000</td>\n",
       "      <td>0.000000</td>\n",
       "      <td>5.905000e+03</td>\n",
       "      <td>0.00000</td>\n",
       "      <td>0.000000</td>\n",
       "    </tr>\n",
       "    <tr>\n",
       "      <th>50%</th>\n",
       "      <td>1.418300e+04</td>\n",
       "      <td>724.000000</td>\n",
       "      <td>6.175200e+04</td>\n",
       "      <td>16.900000</td>\n",
       "      <td>32.000000</td>\n",
       "      <td>10.000000</td>\n",
       "      <td>0.000000</td>\n",
       "      <td>1.102700e+04</td>\n",
       "      <td>0.00000</td>\n",
       "      <td>0.000000</td>\n",
       "    </tr>\n",
       "    <tr>\n",
       "      <th>75%</th>\n",
       "      <td>2.382200e+04</td>\n",
       "      <td>741.000000</td>\n",
       "      <td>8.688700e+04</td>\n",
       "      <td>21.700000</td>\n",
       "      <td>51.000000</td>\n",
       "      <td>14.000000</td>\n",
       "      <td>0.000000</td>\n",
       "      <td>1.933800e+04</td>\n",
       "      <td>0.00000</td>\n",
       "      <td>0.000000</td>\n",
       "    </tr>\n",
       "    <tr>\n",
       "      <th>max</th>\n",
       "      <td>1.000000e+08</td>\n",
       "      <td>7510.000000</td>\n",
       "      <td>8.713547e+06</td>\n",
       "      <td>70.500000</td>\n",
       "      <td>176.000000</td>\n",
       "      <td>76.000000</td>\n",
       "      <td>15.000000</td>\n",
       "      <td>1.730472e+06</td>\n",
       "      <td>7.00000</td>\n",
       "      <td>15.000000</td>\n",
       "    </tr>\n",
       "  </tbody>\n",
       "</table>\n",
       "</div>"
      ],
      "text/plain": [
       "       Current Loan Amount  Credit Score  Annual Income  \\\n",
       "count         1.111070e+05  89769.000000   8.976900e+04   \n",
       "mean          1.147718e+07   1075.795029   7.248600e+04   \n",
       "std           3.185508e+07   1474.133505   5.593094e+04   \n",
       "min           4.910000e+02    585.000000   4.033000e+03   \n",
       "25%           8.162000e+03    705.000000   4.468800e+04   \n",
       "50%           1.418300e+04    724.000000   6.175200e+04   \n",
       "75%           2.382200e+04    741.000000   8.688700e+04   \n",
       "max           1.000000e+08   7510.000000   8.713547e+06   \n",
       "\n",
       "       Years of Credit History  Months since last delinquent  \\\n",
       "count            111107.000000                  52104.000000   \n",
       "mean                 18.201003                     34.902272   \n",
       "std                   7.014495                     21.970696   \n",
       "min                   3.600000                      0.000000   \n",
       "25%                  13.500000                     16.000000   \n",
       "50%                  16.900000                     32.000000   \n",
       "75%                  21.700000                     51.000000   \n",
       "max                  70.500000                    176.000000   \n",
       "\n",
       "       Number of Open Accounts  Number of Credit Problems  \\\n",
       "count            111107.000000              111107.000000   \n",
       "mean                 11.125105                   0.168027   \n",
       "std                   5.010267                   0.484212   \n",
       "min                   0.000000                   0.000000   \n",
       "25%                   8.000000                   0.000000   \n",
       "50%                  10.000000                   0.000000   \n",
       "75%                  14.000000                   0.000000   \n",
       "max                  76.000000                  15.000000   \n",
       "\n",
       "       Current Credit Balance  Bankruptcies      Tax Liens  \n",
       "count            1.111070e+05  110879.00000  111096.000000  \n",
       "mean             1.548314e+04       0.11766       0.029353  \n",
       "std              1.982115e+04       0.35142       0.260575  \n",
       "min              0.000000e+00       0.00000       0.000000  \n",
       "25%              5.905000e+03       0.00000       0.000000  \n",
       "50%              1.102700e+04       0.00000       0.000000  \n",
       "75%              1.933800e+04       0.00000       0.000000  \n",
       "max              1.730472e+06       7.00000      15.000000  "
      ]
     },
     "execution_count": 4,
     "metadata": {},
     "output_type": "execute_result"
    }
   ],
   "source": [
    "raw_data.describe()"
   ]
  },
  {
   "cell_type": "code",
   "execution_count": 5,
   "metadata": {
    "collapsed": false
   },
   "outputs": [
    {
     "data": {
      "text/plain": [
       "Loan ID                         False\n",
       "Customer ID                     False\n",
       "Loan Status                     False\n",
       "Current Loan Amount             False\n",
       "Term                            False\n",
       "Credit Score                     True\n",
       "Years in current job            False\n",
       "Home Ownership                  False\n",
       "Annual Income                    True\n",
       "Purpose                         False\n",
       "Monthly Debt                    False\n",
       "Years of Credit History         False\n",
       "Months since last delinquent     True\n",
       "Number of Open Accounts         False\n",
       "Number of Credit Problems       False\n",
       "Current Credit Balance          False\n",
       "Maximum Open Credit             False\n",
       "Bankruptcies                     True\n",
       "Tax Liens                        True\n",
       "dtype: bool"
      ]
     },
     "execution_count": 5,
     "metadata": {},
     "output_type": "execute_result"
    }
   ],
   "source": [
    "raw_data.isnull().any()"
   ]
  },
  {
   "cell_type": "code",
   "execution_count": 6,
   "metadata": {
    "collapsed": false
   },
   "outputs": [
    {
     "data": {
      "text/plain": [
       "Loan ID                         111107\n",
       "Customer ID                     111107\n",
       "Loan Status                     111107\n",
       "Current Loan Amount             111107\n",
       "Term                            111107\n",
       "Credit Score                     89769\n",
       "Years in current job            111107\n",
       "Home Ownership                  111107\n",
       "Annual Income                    89769\n",
       "Purpose                         111107\n",
       "Monthly Debt                    111107\n",
       "Years of Credit History         111107\n",
       "Months since last delinquent     52104\n",
       "Number of Open Accounts         111107\n",
       "Number of Credit Problems       111107\n",
       "Current Credit Balance          111107\n",
       "Maximum Open Credit             111107\n",
       "Bankruptcies                    110879\n",
       "Tax Liens                       111096\n",
       "dtype: int64"
      ]
     },
     "execution_count": 6,
     "metadata": {},
     "output_type": "execute_result"
    }
   ],
   "source": [
    "df = raw_data\n",
    "df.count()"
   ]
  },
  {
   "cell_type": "code",
   "execution_count": 7,
   "metadata": {
    "collapsed": false
   },
   "outputs": [
    {
     "data": {
      "text/plain": [
       "True"
      ]
     },
     "execution_count": 7,
     "metadata": {},
     "output_type": "execute_result"
    }
   ],
   "source": [
    "# check if there is any duplicate rows\n",
    "df[\"Loan ID\"].duplicated().any()"
   ]
  },
  {
   "cell_type": "code",
   "execution_count": 8,
   "metadata": {
    "collapsed": false
   },
   "outputs": [
    {
     "data": {
      "text/plain": [
       "Loan ID                         88910\n",
       "Customer ID                     88910\n",
       "Loan Status                     88910\n",
       "Current Loan Amount             88910\n",
       "Term                            88910\n",
       "Credit Score                    67572\n",
       "Years in current job            88910\n",
       "Home Ownership                  88910\n",
       "Annual Income                   67572\n",
       "Purpose                         88910\n",
       "Monthly Debt                    88910\n",
       "Years of Credit History         88910\n",
       "Months since last delinquent    40404\n",
       "Number of Open Accounts         88910\n",
       "Number of Credit Problems       88910\n",
       "Current Credit Balance          88910\n",
       "Maximum Open Credit             88910\n",
       "Bankruptcies                    88718\n",
       "Tax Liens                       88902\n",
       "dtype: int64"
      ]
     },
     "execution_count": 8,
     "metadata": {},
     "output_type": "execute_result"
    }
   ],
   "source": [
    "# remove duplicate rows except for the first occurence\n",
    "df.drop_duplicates(subset=[\"Loan ID\"], keep='first', inplace=True)\n",
    "df.count()"
   ]
  },
  {
   "cell_type": "code",
   "execution_count": 9,
   "metadata": {
    "collapsed": false
   },
   "outputs": [
    {
     "data": {
      "text/plain": [
       "Loan ID                          object\n",
       "Customer ID                      object\n",
       "Loan Status                      object\n",
       "Current Loan Amount               int64\n",
       "Term                             object\n",
       "Credit Score                    float64\n",
       "Years in current job             object\n",
       "Home Ownership                   object\n",
       "Annual Income                   float64\n",
       "Purpose                          object\n",
       "Monthly Debt                     object\n",
       "Years of Credit History         float64\n",
       "Months since last delinquent    float64\n",
       "Number of Open Accounts           int64\n",
       "Number of Credit Problems         int64\n",
       "Current Credit Balance            int64\n",
       "Maximum Open Credit              object\n",
       "Bankruptcies                    float64\n",
       "Tax Liens                       float64\n",
       "dtype: object"
      ]
     },
     "execution_count": 9,
     "metadata": {},
     "output_type": "execute_result"
    }
   ],
   "source": [
    "df.dtypes"
   ]
  },
  {
   "cell_type": "code",
   "execution_count": 10,
   "metadata": {
    "collapsed": false
   },
   "outputs": [
    {
     "data": {
      "text/plain": [
       "Loan ID                          object\n",
       "Customer ID                      object\n",
       "Loan Status                      object\n",
       "Current Loan Amount               int64\n",
       "Term                             object\n",
       "Credit Score                    float64\n",
       "Years in current job             object\n",
       "Home Ownership                   object\n",
       "Annual Income                   float64\n",
       "Purpose                          object\n",
       "Monthly Debt                    float64\n",
       "Years of Credit History         float64\n",
       "Months since last delinquent    float64\n",
       "Number of Open Accounts           int64\n",
       "Number of Credit Problems         int64\n",
       "Current Credit Balance            int64\n",
       "Maximum Open Credit              object\n",
       "Bankruptcies                    float64\n",
       "Tax Liens                       float64\n",
       "dtype: object"
      ]
     },
     "execution_count": 10,
     "metadata": {},
     "output_type": "execute_result"
    }
   ],
   "source": [
    "df[\"Monthly Debt\"] = df[\"Monthly Debt\"].replace('[^0-9.]', '', regex=True).astype(float)\n",
    "df.dtypes"
   ]
  },
  {
   "cell_type": "code",
   "execution_count": 11,
   "metadata": {
    "collapsed": false
   },
   "outputs": [
    {
     "data": {
      "text/plain": [
       "False"
      ]
     },
     "execution_count": 11,
     "metadata": {},
     "output_type": "execute_result"
    }
   ],
   "source": [
    "df[\"Monthly Debt\"].isnull().any()"
   ]
  },
  {
   "cell_type": "code",
   "execution_count": 12,
   "metadata": {
    "collapsed": false
   },
   "outputs": [],
   "source": [
    "df[\"Maximum Open Credit\"] = pd.to_numeric(df[\"Maximum Open Credit\"], errors='coerce')"
   ]
  },
  {
   "cell_type": "code",
   "execution_count": 13,
   "metadata": {
    "collapsed": false
   },
   "outputs": [
    {
     "data": {
      "text/plain": [
       "True"
      ]
     },
     "execution_count": 13,
     "metadata": {},
     "output_type": "execute_result"
    }
   ],
   "source": [
    "df[\"Maximum Open Credit\"].isnull().any()"
   ]
  },
  {
   "cell_type": "code",
   "execution_count": 14,
   "metadata": {
    "collapsed": false
   },
   "outputs": [
    {
     "data": {
      "text/plain": [
       "88908"
      ]
     },
     "execution_count": 14,
     "metadata": {},
     "output_type": "execute_result"
    }
   ],
   "source": [
    "df[\"Maximum Open Credit\"] = df[\"Maximum Open Credit\"].dropna()\n",
    "df[\"Maximum Open Credit\"].count()"
   ]
  },
  {
   "cell_type": "code",
   "execution_count": 15,
   "metadata": {
    "collapsed": false
   },
   "outputs": [
    {
     "data": {
      "text/html": [
       "<div>\n",
       "<table border=\"1\" class=\"dataframe\">\n",
       "  <thead>\n",
       "    <tr style=\"text-align: right;\">\n",
       "      <th></th>\n",
       "      <th>Loan ID</th>\n",
       "      <th>Customer ID</th>\n",
       "      <th>Loan Status</th>\n",
       "      <th>Current Loan Amount</th>\n",
       "      <th>Term</th>\n",
       "      <th>Credit Score</th>\n",
       "      <th>Years in current job</th>\n",
       "      <th>Home Ownership</th>\n",
       "      <th>Annual Income</th>\n",
       "      <th>Purpose</th>\n",
       "      <th>Monthly Debt</th>\n",
       "      <th>Years of Credit History</th>\n",
       "      <th>Months since last delinquent</th>\n",
       "      <th>Number of Open Accounts</th>\n",
       "      <th>Number of Credit Problems</th>\n",
       "      <th>Current Credit Balance</th>\n",
       "      <th>Maximum Open Credit</th>\n",
       "      <th>Bankruptcies</th>\n",
       "      <th>Tax Liens</th>\n",
       "    </tr>\n",
       "  </thead>\n",
       "  <tbody>\n",
       "    <tr>\n",
       "      <th>14869</th>\n",
       "      <td>62eb07d6-2042-4e7e-92e5-c64e5c5e550f</td>\n",
       "      <td>3ffba32a-149b-4346-b433-a9fedfb2fb4c</td>\n",
       "      <td>Fully Paid</td>\n",
       "      <td>99999999</td>\n",
       "      <td>Short Term</td>\n",
       "      <td>632.0</td>\n",
       "      <td>1 year</td>\n",
       "      <td>Rent</td>\n",
       "      <td>50958.0</td>\n",
       "      <td>Debt Consolidation</td>\n",
       "      <td>535.06</td>\n",
       "      <td>13.0</td>\n",
       "      <td>0.0</td>\n",
       "      <td>12</td>\n",
       "      <td>0</td>\n",
       "      <td>3002</td>\n",
       "      <td>3253.0</td>\n",
       "      <td>NaN</td>\n",
       "      <td>NaN</td>\n",
       "    </tr>\n",
       "    <tr>\n",
       "      <th>22193</th>\n",
       "      <td>c4fbf5ff-0b79-44f4-9099-dd9e96e909ec</td>\n",
       "      <td>09c0e968-6763-4a62-a659-ea980d997a3a</td>\n",
       "      <td>Fully Paid</td>\n",
       "      <td>4971</td>\n",
       "      <td>Short Term</td>\n",
       "      <td>NaN</td>\n",
       "      <td>&lt; 1 year</td>\n",
       "      <td>Home Mortgage</td>\n",
       "      <td>NaN</td>\n",
       "      <td>other</td>\n",
       "      <td>616.40</td>\n",
       "      <td>27.7</td>\n",
       "      <td>0.0</td>\n",
       "      <td>17</td>\n",
       "      <td>0</td>\n",
       "      <td>85110</td>\n",
       "      <td>12158639.0</td>\n",
       "      <td>NaN</td>\n",
       "      <td>NaN</td>\n",
       "    </tr>\n",
       "    <tr>\n",
       "      <th>24575</th>\n",
       "      <td>8d5a40cc-230c-45f8-91f1-3c3afa7bb97f</td>\n",
       "      <td>3dc3d4b5-e669-4537-9a07-9bbe017fdd9e</td>\n",
       "      <td>Fully Paid</td>\n",
       "      <td>1956</td>\n",
       "      <td>Short Term</td>\n",
       "      <td>NaN</td>\n",
       "      <td>10+ years</td>\n",
       "      <td>Home Mortgage</td>\n",
       "      <td>NaN</td>\n",
       "      <td>Debt Consolidation</td>\n",
       "      <td>41.34</td>\n",
       "      <td>25.1</td>\n",
       "      <td>NaN</td>\n",
       "      <td>14</td>\n",
       "      <td>0</td>\n",
       "      <td>4604</td>\n",
       "      <td>24889.0</td>\n",
       "      <td>NaN</td>\n",
       "      <td>NaN</td>\n",
       "    </tr>\n",
       "    <tr>\n",
       "      <th>27043</th>\n",
       "      <td>8f6af143-49e2-4fff-b729-8a2be6bf71a3</td>\n",
       "      <td>e6d56246-9fd6-44df-b490-9bb9dc87b881</td>\n",
       "      <td>Fully Paid</td>\n",
       "      <td>5046</td>\n",
       "      <td>Short Term</td>\n",
       "      <td>NaN</td>\n",
       "      <td>8 years</td>\n",
       "      <td>Home Mortgage</td>\n",
       "      <td>NaN</td>\n",
       "      <td>Home Improvements</td>\n",
       "      <td>0.00</td>\n",
       "      <td>28.6</td>\n",
       "      <td>0.0</td>\n",
       "      <td>2</td>\n",
       "      <td>0</td>\n",
       "      <td>6109</td>\n",
       "      <td>31327.0</td>\n",
       "      <td>NaN</td>\n",
       "      <td>NaN</td>\n",
       "    </tr>\n",
       "    <tr>\n",
       "      <th>38992</th>\n",
       "      <td>bb27f262-7982-4478-9d85-768ecca4fb88</td>\n",
       "      <td>d877718e-a063-42c5-a4df-753bb089e51b</td>\n",
       "      <td>Fully Paid</td>\n",
       "      <td>5036</td>\n",
       "      <td>Short Term</td>\n",
       "      <td>NaN</td>\n",
       "      <td>&lt; 1 year</td>\n",
       "      <td>Own Home</td>\n",
       "      <td>NaN</td>\n",
       "      <td>Debt Consolidation</td>\n",
       "      <td>81.25</td>\n",
       "      <td>20.0</td>\n",
       "      <td>0.0</td>\n",
       "      <td>15</td>\n",
       "      <td>1</td>\n",
       "      <td>27381</td>\n",
       "      <td>170067.0</td>\n",
       "      <td>NaN</td>\n",
       "      <td>NaN</td>\n",
       "    </tr>\n",
       "    <tr>\n",
       "      <th>52585</th>\n",
       "      <td>96e9fc0f-ff00-4526-85ee-a62b904d9db6</td>\n",
       "      <td>dd68e09b-4123-4372-9236-a71a32a0a8cf</td>\n",
       "      <td>Fully Paid</td>\n",
       "      <td>11816</td>\n",
       "      <td>Short Term</td>\n",
       "      <td>702.0</td>\n",
       "      <td>9 years</td>\n",
       "      <td>Own Home</td>\n",
       "      <td>73853.0</td>\n",
       "      <td>Debt Consolidation</td>\n",
       "      <td>923.16</td>\n",
       "      <td>21.3</td>\n",
       "      <td>78.0</td>\n",
       "      <td>9</td>\n",
       "      <td>0</td>\n",
       "      <td>42381</td>\n",
       "      <td>45375.0</td>\n",
       "      <td>NaN</td>\n",
       "      <td>NaN</td>\n",
       "    </tr>\n",
       "    <tr>\n",
       "      <th>77597</th>\n",
       "      <td>8a2eb784-0682-4314-bb93-daa50a7c7c99</td>\n",
       "      <td>991c0c76-0432-4b11-8186-2da07e8f3a71</td>\n",
       "      <td>Fully Paid</td>\n",
       "      <td>5396</td>\n",
       "      <td>Short Term</td>\n",
       "      <td>746.0</td>\n",
       "      <td>7 years</td>\n",
       "      <td>Home Mortgage</td>\n",
       "      <td>75339.0</td>\n",
       "      <td>Debt Consolidation</td>\n",
       "      <td>904.07</td>\n",
       "      <td>24.5</td>\n",
       "      <td>0.0</td>\n",
       "      <td>15</td>\n",
       "      <td>0</td>\n",
       "      <td>6968</td>\n",
       "      <td>48388.0</td>\n",
       "      <td>NaN</td>\n",
       "      <td>NaN</td>\n",
       "    </tr>\n",
       "    <tr>\n",
       "      <th>84403</th>\n",
       "      <td>3a17105b-d1f5-460c-a582-829153486728</td>\n",
       "      <td>e743f01f-d0da-40a3-a8be-4586988ffe07</td>\n",
       "      <td>Fully Paid</td>\n",
       "      <td>3579</td>\n",
       "      <td>Short Term</td>\n",
       "      <td>735.0</td>\n",
       "      <td>&lt; 1 year</td>\n",
       "      <td>Rent</td>\n",
       "      <td>13804.0</td>\n",
       "      <td>Educational Expenses</td>\n",
       "      <td>188.65</td>\n",
       "      <td>13.6</td>\n",
       "      <td>0.0</td>\n",
       "      <td>10</td>\n",
       "      <td>0</td>\n",
       "      <td>2928</td>\n",
       "      <td>7125.0</td>\n",
       "      <td>NaN</td>\n",
       "      <td>NaN</td>\n",
       "    </tr>\n",
       "  </tbody>\n",
       "</table>\n",
       "</div>"
      ],
      "text/plain": [
       "                                    Loan ID  \\\n",
       "14869  62eb07d6-2042-4e7e-92e5-c64e5c5e550f   \n",
       "22193  c4fbf5ff-0b79-44f4-9099-dd9e96e909ec   \n",
       "24575  8d5a40cc-230c-45f8-91f1-3c3afa7bb97f   \n",
       "27043  8f6af143-49e2-4fff-b729-8a2be6bf71a3   \n",
       "38992  bb27f262-7982-4478-9d85-768ecca4fb88   \n",
       "52585  96e9fc0f-ff00-4526-85ee-a62b904d9db6   \n",
       "77597  8a2eb784-0682-4314-bb93-daa50a7c7c99   \n",
       "84403  3a17105b-d1f5-460c-a582-829153486728   \n",
       "\n",
       "                                Customer ID Loan Status  Current Loan Amount  \\\n",
       "14869  3ffba32a-149b-4346-b433-a9fedfb2fb4c  Fully Paid             99999999   \n",
       "22193  09c0e968-6763-4a62-a659-ea980d997a3a  Fully Paid                 4971   \n",
       "24575  3dc3d4b5-e669-4537-9a07-9bbe017fdd9e  Fully Paid                 1956   \n",
       "27043  e6d56246-9fd6-44df-b490-9bb9dc87b881  Fully Paid                 5046   \n",
       "38992  d877718e-a063-42c5-a4df-753bb089e51b  Fully Paid                 5036   \n",
       "52585  dd68e09b-4123-4372-9236-a71a32a0a8cf  Fully Paid                11816   \n",
       "77597  991c0c76-0432-4b11-8186-2da07e8f3a71  Fully Paid                 5396   \n",
       "84403  e743f01f-d0da-40a3-a8be-4586988ffe07  Fully Paid                 3579   \n",
       "\n",
       "             Term  Credit Score Years in current job Home Ownership  \\\n",
       "14869  Short Term         632.0               1 year           Rent   \n",
       "22193  Short Term           NaN             < 1 year  Home Mortgage   \n",
       "24575  Short Term           NaN            10+ years  Home Mortgage   \n",
       "27043  Short Term           NaN              8 years  Home Mortgage   \n",
       "38992  Short Term           NaN             < 1 year       Own Home   \n",
       "52585  Short Term         702.0              9 years       Own Home   \n",
       "77597  Short Term         746.0              7 years  Home Mortgage   \n",
       "84403  Short Term         735.0             < 1 year           Rent   \n",
       "\n",
       "       Annual Income               Purpose  Monthly Debt  \\\n",
       "14869        50958.0    Debt Consolidation        535.06   \n",
       "22193            NaN                 other        616.40   \n",
       "24575            NaN    Debt Consolidation         41.34   \n",
       "27043            NaN     Home Improvements          0.00   \n",
       "38992            NaN    Debt Consolidation         81.25   \n",
       "52585        73853.0    Debt Consolidation        923.16   \n",
       "77597        75339.0    Debt Consolidation        904.07   \n",
       "84403        13804.0  Educational Expenses        188.65   \n",
       "\n",
       "       Years of Credit History  Months since last delinquent  \\\n",
       "14869                     13.0                           0.0   \n",
       "22193                     27.7                           0.0   \n",
       "24575                     25.1                           NaN   \n",
       "27043                     28.6                           0.0   \n",
       "38992                     20.0                           0.0   \n",
       "52585                     21.3                          78.0   \n",
       "77597                     24.5                           0.0   \n",
       "84403                     13.6                           0.0   \n",
       "\n",
       "       Number of Open Accounts  Number of Credit Problems  \\\n",
       "14869                       12                          0   \n",
       "22193                       17                          0   \n",
       "24575                       14                          0   \n",
       "27043                        2                          0   \n",
       "38992                       15                          1   \n",
       "52585                        9                          0   \n",
       "77597                       15                          0   \n",
       "84403                       10                          0   \n",
       "\n",
       "       Current Credit Balance  Maximum Open Credit  Bankruptcies  Tax Liens  \n",
       "14869                    3002               3253.0           NaN        NaN  \n",
       "22193                   85110           12158639.0           NaN        NaN  \n",
       "24575                    4604              24889.0           NaN        NaN  \n",
       "27043                    6109              31327.0           NaN        NaN  \n",
       "38992                   27381             170067.0           NaN        NaN  \n",
       "52585                   42381              45375.0           NaN        NaN  \n",
       "77597                    6968              48388.0           NaN        NaN  \n",
       "84403                    2928               7125.0           NaN        NaN  "
      ]
     },
     "execution_count": 15,
     "metadata": {},
     "output_type": "execute_result"
    }
   ],
   "source": [
    "raw_data[df[\"Tax Liens\"].isnull()]"
   ]
  },
  {
   "cell_type": "code",
   "execution_count": 16,
   "metadata": {
    "collapsed": false
   },
   "outputs": [
    {
     "data": {
      "text/html": [
       "<div>\n",
       "<table border=\"1\" class=\"dataframe\">\n",
       "  <thead>\n",
       "    <tr style=\"text-align: right;\">\n",
       "      <th></th>\n",
       "      <th>Current Loan Amount</th>\n",
       "      <th>Credit Score</th>\n",
       "      <th>Annual Income</th>\n",
       "      <th>Monthly Debt</th>\n",
       "      <th>Years of Credit History</th>\n",
       "      <th>Months since last delinquent</th>\n",
       "      <th>Number of Open Accounts</th>\n",
       "      <th>Number of Credit Problems</th>\n",
       "      <th>Current Credit Balance</th>\n",
       "      <th>Maximum Open Credit</th>\n",
       "      <th>Bankruptcies</th>\n",
       "      <th>Tax Liens</th>\n",
       "    </tr>\n",
       "  </thead>\n",
       "  <tbody>\n",
       "    <tr>\n",
       "      <th>count</th>\n",
       "      <td>8.891000e+04</td>\n",
       "      <td>67572.000000</td>\n",
       "      <td>6.757200e+04</td>\n",
       "      <td>88910.000000</td>\n",
       "      <td>88910.000000</td>\n",
       "      <td>40404.000000</td>\n",
       "      <td>88910.000000</td>\n",
       "      <td>88910.000000</td>\n",
       "      <td>8.891000e+04</td>\n",
       "      <td>8.890800e+04</td>\n",
       "      <td>88718.000000</td>\n",
       "      <td>88902.000000</td>\n",
       "    </tr>\n",
       "    <tr>\n",
       "      <th>mean</th>\n",
       "      <td>1.433878e+07</td>\n",
       "      <td>1199.199580</td>\n",
       "      <td>7.234575e+04</td>\n",
       "      <td>963.102059</td>\n",
       "      <td>18.315313</td>\n",
       "      <td>35.080289</td>\n",
       "      <td>11.110348</td>\n",
       "      <td>0.160477</td>\n",
       "      <td>1.543593e+04</td>\n",
       "      <td>3.596531e+04</td>\n",
       "      <td>0.112672</td>\n",
       "      <td>0.028222</td>\n",
       "    </tr>\n",
       "    <tr>\n",
       "      <th>std</th>\n",
       "      <td>3.502996e+07</td>\n",
       "      <td>1680.813805</td>\n",
       "      <td>5.836101e+04</td>\n",
       "      <td>637.524064</td>\n",
       "      <td>7.049175</td>\n",
       "      <td>22.008583</td>\n",
       "      <td>4.978461</td>\n",
       "      <td>0.473746</td>\n",
       "      <td>1.965873e+04</td>\n",
       "      <td>4.041805e+05</td>\n",
       "      <td>0.343300</td>\n",
       "      <td>0.257533</td>\n",
       "    </tr>\n",
       "    <tr>\n",
       "      <th>min</th>\n",
       "      <td>4.910000e+02</td>\n",
       "      <td>585.000000</td>\n",
       "      <td>4.033000e+03</td>\n",
       "      <td>0.000000</td>\n",
       "      <td>3.600000</td>\n",
       "      <td>0.000000</td>\n",
       "      <td>0.000000</td>\n",
       "      <td>0.000000</td>\n",
       "      <td>0.000000e+00</td>\n",
       "      <td>0.000000e+00</td>\n",
       "      <td>0.000000</td>\n",
       "      <td>0.000000</td>\n",
       "    </tr>\n",
       "    <tr>\n",
       "      <th>25%</th>\n",
       "      <td>8.283000e+03</td>\n",
       "      <td>714.000000</td>\n",
       "      <td>4.458600e+04</td>\n",
       "      <td>532.220000</td>\n",
       "      <td>13.500000</td>\n",
       "      <td>16.000000</td>\n",
       "      <td>8.000000</td>\n",
       "      <td>0.000000</td>\n",
       "      <td>5.949000e+03</td>\n",
       "      <td>1.277500e+04</td>\n",
       "      <td>0.000000</td>\n",
       "      <td>0.000000</td>\n",
       "    </tr>\n",
       "    <tr>\n",
       "      <th>50%</th>\n",
       "      <td>1.435500e+04</td>\n",
       "      <td>733.000000</td>\n",
       "      <td>6.149400e+04</td>\n",
       "      <td>843.925000</td>\n",
       "      <td>17.000000</td>\n",
       "      <td>32.000000</td>\n",
       "      <td>10.000000</td>\n",
       "      <td>0.000000</td>\n",
       "      <td>1.103900e+04</td>\n",
       "      <td>2.178100e+04</td>\n",
       "      <td>0.000000</td>\n",
       "      <td>0.000000</td>\n",
       "    </tr>\n",
       "    <tr>\n",
       "      <th>75%</th>\n",
       "      <td>2.448500e+04</td>\n",
       "      <td>744.000000</td>\n",
       "      <td>8.675025e+04</td>\n",
       "      <td>1250.527500</td>\n",
       "      <td>21.800000</td>\n",
       "      <td>51.000000</td>\n",
       "      <td>14.000000</td>\n",
       "      <td>0.000000</td>\n",
       "      <td>1.930100e+04</td>\n",
       "      <td>3.636700e+04</td>\n",
       "      <td>0.000000</td>\n",
       "      <td>0.000000</td>\n",
       "    </tr>\n",
       "    <tr>\n",
       "      <th>max</th>\n",
       "      <td>1.000000e+08</td>\n",
       "      <td>7510.000000</td>\n",
       "      <td>8.713547e+06</td>\n",
       "      <td>22939.120000</td>\n",
       "      <td>70.500000</td>\n",
       "      <td>176.000000</td>\n",
       "      <td>76.000000</td>\n",
       "      <td>15.000000</td>\n",
       "      <td>1.730472e+06</td>\n",
       "      <td>6.998809e+07</td>\n",
       "      <td>7.000000</td>\n",
       "      <td>15.000000</td>\n",
       "    </tr>\n",
       "  </tbody>\n",
       "</table>\n",
       "</div>"
      ],
      "text/plain": [
       "       Current Loan Amount  Credit Score  Annual Income  Monthly Debt  \\\n",
       "count         8.891000e+04  67572.000000   6.757200e+04  88910.000000   \n",
       "mean          1.433878e+07   1199.199580   7.234575e+04    963.102059   \n",
       "std           3.502996e+07   1680.813805   5.836101e+04    637.524064   \n",
       "min           4.910000e+02    585.000000   4.033000e+03      0.000000   \n",
       "25%           8.283000e+03    714.000000   4.458600e+04    532.220000   \n",
       "50%           1.435500e+04    733.000000   6.149400e+04    843.925000   \n",
       "75%           2.448500e+04    744.000000   8.675025e+04   1250.527500   \n",
       "max           1.000000e+08   7510.000000   8.713547e+06  22939.120000   \n",
       "\n",
       "       Years of Credit History  Months since last delinquent  \\\n",
       "count             88910.000000                  40404.000000   \n",
       "mean                 18.315313                     35.080289   \n",
       "std                   7.049175                     22.008583   \n",
       "min                   3.600000                      0.000000   \n",
       "25%                  13.500000                     16.000000   \n",
       "50%                  17.000000                     32.000000   \n",
       "75%                  21.800000                     51.000000   \n",
       "max                  70.500000                    176.000000   \n",
       "\n",
       "       Number of Open Accounts  Number of Credit Problems  \\\n",
       "count             88910.000000               88910.000000   \n",
       "mean                 11.110348                   0.160477   \n",
       "std                   4.978461                   0.473746   \n",
       "min                   0.000000                   0.000000   \n",
       "25%                   8.000000                   0.000000   \n",
       "50%                  10.000000                   0.000000   \n",
       "75%                  14.000000                   0.000000   \n",
       "max                  76.000000                  15.000000   \n",
       "\n",
       "       Current Credit Balance  Maximum Open Credit  Bankruptcies     Tax Liens  \n",
       "count            8.891000e+04         8.890800e+04  88718.000000  88902.000000  \n",
       "mean             1.543593e+04         3.596531e+04      0.112672      0.028222  \n",
       "std              1.965873e+04         4.041805e+05      0.343300      0.257533  \n",
       "min              0.000000e+00         0.000000e+00      0.000000      0.000000  \n",
       "25%              5.949000e+03         1.277500e+04      0.000000      0.000000  \n",
       "50%              1.103900e+04         2.178100e+04      0.000000      0.000000  \n",
       "75%              1.930100e+04         3.636700e+04      0.000000      0.000000  \n",
       "max              1.730472e+06         6.998809e+07      7.000000     15.000000  "
      ]
     },
     "execution_count": 16,
     "metadata": {},
     "output_type": "execute_result"
    }
   ],
   "source": [
    "df.describe()"
   ]
  },
  {
   "cell_type": "code",
   "execution_count": 17,
   "metadata": {
    "collapsed": false
   },
   "outputs": [
    {
     "data": {
      "text/plain": [
       "<matplotlib.axes._subplots.AxesSubplot at 0x1183bb910>"
      ]
     },
     "execution_count": 17,
     "metadata": {},
     "output_type": "execute_result"
    },
    {
     "data": {
      "image/png": "[encoded data removed]",
      "text/plain": [
       "<matplotlib.figure.Figure at 0x1183c7f10>"
      ]
     },
     "metadata": {},
     "output_type": "display_data"
    }
   ],
   "source": [
    "df.boxplot(column=\"Credit Score\")"
   ]
  },
  {
   "cell_type": "code",
   "execution_count": 18,
   "metadata": {
    "collapsed": false
   },
   "outputs": [
    {
     "data": {
      "text/plain": [
       "array([[<matplotlib.axes._subplots.AxesSubplot object at 0x1160fe1d0>]], dtype=object)"
      ]
     },
     "execution_count": 18,
     "metadata": {},
     "output_type": "execute_result"
    },
    {
     "data": {
      "image/png": "[encoded data removed]",
      "text/plain": [
       "<matplotlib.figure.Figure at 0x10471bd50>"
      ]
     },
     "metadata": {},
     "output_type": "display_data"
    }
   ],
   "source": [
    "df.hist(column=\"Credit Score\", bins=100)"
   ]
  },
  {
   "cell_type": "code",
   "execution_count": 19,
   "metadata": {
    "collapsed": false
   },
   "outputs": [],
   "source": [
    "credit_score_limit = 800\n",
    "while (any(df[\"Credit Score\"]>credit_score_limit)):\n",
    "    df.loc[df[\"Credit Score\"]>credit_score_limit, \"Credit Score\"] = df.loc[df[\"Credit Score\"]>credit_score_limit, \"Credit Score\"] / 10"
   ]
  },
  {
   "cell_type": "code",
   "execution_count": 20,
   "metadata": {
    "collapsed": false
   },
   "outputs": [
    {
     "data": {
      "text/plain": [
       "count    67572.000000\n",
       "mean       721.601951\n",
       "std         27.427709\n",
       "min        585.000000\n",
       "25%        710.000000\n",
       "50%        730.000000\n",
       "75%        741.000000\n",
       "max        751.000000\n",
       "Name: Credit Score, dtype: float64"
      ]
     },
     "execution_count": 20,
     "metadata": {},
     "output_type": "execute_result"
    }
   ],
   "source": [
    "df[\"Credit Score\"].describe()"
   ]
  },
  {
   "cell_type": "code",
   "execution_count": 21,
   "metadata": {
    "collapsed": false
   },
   "outputs": [
    {
     "data": {
      "text/plain": [
       "<matplotlib.axes._subplots.AxesSubplot at 0x117004650>"
      ]
     },
     "execution_count": 21,
     "metadata": {},
     "output_type": "execute_result"
    },
    {
     "data": {
      "image/png": "[encoded data removed]",
      "text/plain": [
       "<matplotlib.figure.Figure at 0x1160cb750>"
      ]
     },
     "metadata": {},
     "output_type": "display_data"
    }
   ],
   "source": [
    "df.boxplot(column='Credit Score')"
   ]
  },
  {
   "cell_type": "code",
   "execution_count": 22,
   "metadata": {
    "collapsed": false
   },
   "outputs": [
    {
     "data": {
      "text/plain": [
       "<matplotlib.axes._subplots.AxesSubplot at 0x116e9dc90>"
      ]
     },
     "execution_count": 22,
     "metadata": {},
     "output_type": "execute_result"
    },
    {
     "data": {
      "image/png": "[encoded data removed]",
      "text/plain": [
       "<matplotlib.figure.Figure at 0x117b7d850>"
      ]
     },
     "metadata": {},
     "output_type": "display_data"
    }
   ],
   "source": [
    "df.boxplot(column=\"Annual Income\")"
   ]
  },
  {
   "cell_type": "code",
   "execution_count": 23,
   "metadata": {
    "collapsed": false
   },
   "outputs": [
    {
     "data": {
      "text/plain": [
       "array([[<matplotlib.axes._subplots.AxesSubplot object at 0x117bb7c50>]], dtype=object)"
      ]
     },
     "execution_count": 23,
     "metadata": {},
     "output_type": "execute_result"
    },
    {
     "data": {
      "image/png": "[encoded data removed]",
      "text/plain": [
       "<matplotlib.figure.Figure at 0x112c71090>"
      ]
     },
     "metadata": {},
     "output_type": "display_data"
    }
   ],
   "source": [
    "df.hist(column=\"Annual Income\", bins=100)"
   ]
  },
  {
   "cell_type": "code",
   "execution_count": 24,
   "metadata": {
    "collapsed": false
   },
   "outputs": [
    {
     "data": {
      "text/plain": [
       "Loan ID                          object\n",
       "Customer ID                      object\n",
       "Loan Status                      object\n",
       "Current Loan Amount               int64\n",
       "Term                             object\n",
       "Credit Score                    float64\n",
       "Years in current job             object\n",
       "Home Ownership                   object\n",
       "Annual Income                   float64\n",
       "Purpose                          object\n",
       "Monthly Debt                    float64\n",
       "Years of Credit History         float64\n",
       "Months since last delinquent    float64\n",
       "Number of Open Accounts           int64\n",
       "Number of Credit Problems         int64\n",
       "Current Credit Balance            int64\n",
       "Maximum Open Credit             float64\n",
       "Bankruptcies                    float64\n",
       "Tax Liens                       float64\n",
       "dtype: object"
      ]
     },
     "execution_count": 24,
     "metadata": {},
     "output_type": "execute_result"
    }
   ],
   "source": [
    "df.dtypes"
   ]
  },
  {
   "cell_type": "code",
   "execution_count": 25,
   "metadata": {
    "collapsed": false
   },
   "outputs": [
    {
     "data": {
      "text/plain": [
       "array(['< 1 year', '10+ years', '9 years', '3 years', '2 years', '7 years',\n",
       "       '6 years', '1 year', '5 years', '4 years', '8 years', 'n/a'], dtype=object)"
      ]
     },
     "execution_count": 25,
     "metadata": {},
     "output_type": "execute_result"
    }
   ],
   "source": [
    "df[\"Years in current job\"].unique()"
   ]
  },
  {
   "cell_type": "code",
   "execution_count": 28,
   "metadata": {
    "collapsed": true
   },
   "outputs": [],
   "source": [
    "def replace_years(df):\n",
    "    df[\"Years in current job\"] = df[\"Years in current job\"].astype('str')\n",
    "    df.loc[df[\"Years in current job\"]=='< 1 year', \"Years in current job\"] = '0'\n",
    "    df.loc[df[\"Years in current job\"]=='n/a', \"Years in current job\"] = '0'\n",
    "    df.loc[df[\"Years in current job\"]=='10+ years', \"Years in current job\"] = '10'\n",
    "    df[\"Years in current job\"] = df[\"Years in current job\"].replace('[^0-9.]', '', regex=True)\n",
    "    return df"
   ]
  },
  {
   "cell_type": "code",
   "execution_count": 29,
   "metadata": {
    "collapsed": false
   },
   "outputs": [
    {
     "data": {
      "text/plain": [
       "array(['0', '10', '9', '3', '2', '7', '6', '1', '5', '4', '8'], dtype=object)"
      ]
     },
     "execution_count": 29,
     "metadata": {},
     "output_type": "execute_result"
    }
   ],
   "source": [
    "df = replace_years(df)\n",
    "df[\"Years in current job\"].unique()"
   ]
  },
  {
   "cell_type": "code",
   "execution_count": 30,
   "metadata": {
    "collapsed": false
   },
   "outputs": [
    {
     "data": {
      "text/plain": [
       "Loan ID                          object\n",
       "Customer ID                      object\n",
       "Loan Status                      object\n",
       "Current Loan Amount               int64\n",
       "Term                             object\n",
       "Credit Score                    float64\n",
       "Years in current job             object\n",
       "Home Ownership                   object\n",
       "Annual Income                   float64\n",
       "Purpose                          object\n",
       "Monthly Debt                    float64\n",
       "Years of Credit History         float64\n",
       "Months since last delinquent    float64\n",
       "Number of Open Accounts           int64\n",
       "Number of Credit Problems         int64\n",
       "Current Credit Balance            int64\n",
       "Maximum Open Credit             float64\n",
       "Bankruptcies                    float64\n",
       "Tax Liens                       float64\n",
       "dtype: object"
      ]
     },
     "execution_count": 30,
     "metadata": {},
     "output_type": "execute_result"
    }
   ],
   "source": [
    "df.dtypes"
   ]
  },
  {
   "cell_type": "code",
   "execution_count": null,
   "metadata": {
    "collapsed": true
   },
   "outputs": [],
   "source": []
  }
 ],
 "metadata": {
  "kernelspec": {
   "display_name": "Python 2",
   "language": "python",
   "name": "python2"
  },
  "language_info": {
   "codemirror_mode": {
    "name": "ipython",
    "version": 2
   },
   "file_extension": ".py",
   "mimetype": "text/x-python",
   "name": "python",
   "nbconvert_exporter": "python",
   "pygments_lexer": "ipython2",
   "version": "2.7.13"
  }
 },
 "nbformat": 4,
 "nbformat_minor": 0
}
